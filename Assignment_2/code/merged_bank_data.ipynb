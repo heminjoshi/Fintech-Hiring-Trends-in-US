{
 "cells": [
  {
   "cell_type": "code",
   "execution_count": 8,
   "metadata": {},
   "outputs": [
    {
     "name": "stdout",
     "output_type": "stream",
     "text": [
      "Verify consolidated CSV file : merged.csv\n"
     ]
    }
   ],
   "source": []
  },
  {
   "cell_type": "code",
   "execution_count": 3,
   "metadata": {},
   "outputs": [],
   "source": [
    "import pandas as pd\n",
    "\n",
    "excel_names = [\"merge1.xlsx\",\"Sheet7.xlsx\",\"Sheet8.xlsx\",\"Sheet9.xlsx\",\"Sheet10.xlsx\",\"Sheet11.xlsx\",\"Sheet12.xlsx\"]\n",
    "excels = [pd.ExcelFile(name) for name in excel_names]\n",
    "\n",
    "frames = [x.parse(x.sheet_names[0], header=None,index_col=None) for x in excels]\n",
    "\n",
    "frames[1:] = [df[1:] for df in frames[1:]]\n",
    "\n",
    "\n",
    "combined = pd.concat(frames)\n",
    "\n",
    "\n",
    "combined.to_excel(\"bank_data_merged.xlsx\", header=False, index=False)"
   ]
  },
  {
   "cell_type": "code",
   "execution_count": null,
   "metadata": {},
   "outputs": [],
   "source": []
  },
  {
   "cell_type": "code",
   "execution_count": null,
   "metadata": {},
   "outputs": [],
   "source": []
  }
 ],
 "metadata": {
  "kernelspec": {
   "display_name": "Python 3",
   "language": "python",
   "name": "python3"
  },
  "language_info": {
   "codemirror_mode": {
    "name": "ipython",
    "version": 3
   },
   "file_extension": ".py",
   "mimetype": "text/x-python",
   "name": "python",
   "nbconvert_exporter": "python",
   "pygments_lexer": "ipython3",
   "version": "3.7.1"
  }
 },
 "nbformat": 4,
 "nbformat_minor": 2
}
